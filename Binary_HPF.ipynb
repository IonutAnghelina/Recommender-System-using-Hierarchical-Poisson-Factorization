{
 "cells": [
  {
   "cell_type": "code",
   "execution_count": 1,
   "id": "9d261afd-4275-487a-bac6-8976d3f8b2f0",
   "metadata": {},
   "outputs": [
    {
     "name": "stderr",
     "output_type": "stream",
     "text": [
      "\n",
      "KeyboardInterrupt\n",
      "\n"
     ]
    }
   ],
   "source": [
    "import pymc as pm\n",
    "import pandas as pd\n",
    "import numpy as np\n",
    "import aesara.tensor as at\n",
    "import pytensor.tensor as pt\n",
    "from sklearn.model_selection import train_test_split\n",
    "import random\n",
    "import matplotlib.pyplot as plt"
   ]
  },
  {
   "cell_type": "code",
   "execution_count": null,
   "id": "7fb71011-941f-43ac-8ac9-955f7bd92a65",
   "metadata": {},
   "outputs": [],
   "source": [
    "ratings = pd.read_csv(\"./ratings.csv\")\n",
    "movies = pd.read_csv('./movies_metadata.csv')"
   ]
  },
  {
   "cell_type": "code",
   "execution_count": null,
   "id": "4319cff1-9111-4aa9-8236-bbf1ee023b58",
   "metadata": {},
   "outputs": [],
   "source": [
    "ratings.head(5)"
   ]
  },
  {
   "cell_type": "code",
   "execution_count": null,
   "id": "b94e5362-39ef-4045-a923-a596b1c4b817",
   "metadata": {},
   "outputs": [],
   "source": [
    "class HPFModel():\n",
    "\n",
    "    def __init__(self, binary = False):\n",
    "        self.N_users = 200\n",
    "        \n",
    "        self.N_movies = 200\n",
    "\n",
    "        self.aprime = 0.2\n",
    "        self.bprime = 0.1\n",
    "        self.a = 0.2\n",
    "        self.cprime = 0.2\n",
    "        self.dprime = 0.1\n",
    "        self.c = 0.2\n",
    "\n",
    "        #self.keepObservations = 150\n",
    "\n",
    "\n",
    "        self.negativeProportion = 0.2 \n",
    "        \n",
    "        self.K = 10 #the number of components \n",
    "\n",
    "       \n",
    "        data = pd.read_csv('full_dataset.csv')\n",
    "        data['rating'] = data['rating']*2\n",
    "        data = data.drop(['score','Unnamed: 0'], axis=1)\n",
    "        data['rating2'] = data['rating']\n",
    "        if binary:\n",
    "            data['rating'] = data['rating'].apply(lambda x:x>0)\n",
    "\n",
    "\n",
    "        data = data.sample(frac=1).reset_index(drop=True)\n",
    "\n",
    "        \n",
    "        \n",
    "        print(data.head(5))\n",
    "\n",
    "        self.data = data\n",
    "\n",
    "        self.trainData = pd.DataFrame({\"userId\":[],\"movieId\":[],\"rating\":[],\"timestamp\":[]})\n",
    "        self.testData = pd.DataFrame({\"userId\":[],\"movieId\":[],\"rating\":[],\"timestamp\":[]})\n",
    "\n",
    "\n",
    "        for u in range(self.N_users):\n",
    "\n",
    "            currentUserInteractions = self.data[self.data[\"userId\"]==u].astype('int')\n",
    "\n",
    "            forTrain, forTest = train_test_split(currentUserInteractions, test_size = 0.1, random_state = 42)\n",
    "\n",
    "            self.trainData = pd.concat([self.trainData,forTrain])\n",
    "            self.testData = pd.concat([self.testData,forTest])\n",
    "            \n",
    "        #data = data.head(10000)\n",
    "        #self.trainData, self.testData = train_test_split(data, test_size=0.1, random_state=42)\n",
    "\n",
    "        self.negatives = int(self.negativeProportion * len(self.trainData))\n",
    "        \n",
    "        while(self.negatives>0):\n",
    "\n",
    "        \n",
    "            x = random.randint(0,self.N_users-1)\n",
    "            y = random.randint(0,self.N_movies-1)\n",
    "\n",
    "            if self.trainData[(self.data['userId']==x) & (self.data['movieId']==y)].shape[0]:\n",
    "                continue \n",
    "\n",
    "          #  print(\"ceva\")\n",
    "            new_entry = {'userId':x,'movieId':y,'rating':0,'timestamp':\"0\"}\n",
    "\n",
    "            self.trainData = pd.concat([self.trainData, pd.DataFrame([new_entry])])\n",
    "\n",
    "            self.negatives-=1\n",
    "                \n",
    "        \n",
    "        #print(len(self.testData))\n",
    "        ratingDict = dict()\n",
    "\n",
    "        for i,row in self.trainData.iterrows():\n",
    "            ratingDict[int(row['userId']),int(row['movieId'])] = int(row['rating'])\n",
    "\n",
    "        indices = [list(x) for x in list(ratingDict.keys())]\n",
    "\n",
    "        self.row_indices, self.col_indices = zip(*indices)\n",
    "        self.row_indices = np.array(self.row_indices)\n",
    "        self.col_indices = np.array(self.col_indices)\n",
    "        self.observations = list(ratingDict.values())\n",
    "\n",
    "    def train(self):\n",
    "        coords = {\n",
    "            \"no_users\":np.arange(self.N_users),\n",
    "            \"no_movies\":np.arange(self.N_movies),\n",
    "            \"no_features\":np.arange(self.K),\n",
    "            \"unity\":np.arange(1)\n",
    "        }\n",
    "        with pm.Model(coords=coords) as model:\n",
    "            \n",
    "            xi = pm.Gamma(\"xi\",self.aprime,self.aprime/self.bprime,dims=(\"no_users\",\"unity\"))\n",
    "            \n",
    "            theta = pm.Gamma('theta', alpha=self.a, beta=xi, dims=(\"no_users\", \"no_features\"))\n",
    "            \n",
    "            \n",
    "            eta = pm.Gamma(\"eta\",self.cprime,self.cprime/self.dprime,dims=(\"unity\",\"no_movies\"))\n",
    "            \n",
    "            beta = pm.Gamma('beta', alpha=self.c, beta=eta, dims=(\"no_features\",\"no_movies\"))\n",
    "            \n",
    "            \n",
    "            lambdas = pm.Deterministic(\"lambdas\",pt.dot(theta,beta))\n",
    "        \n",
    "            obs = pm.Poisson(\"obs\",mu = lambdas[self.row_indices,self.col_indices],shape = len(self.row_indices), observed = self.observations)\n",
    "\n",
    "        with model:\n",
    "            step = pm.NUTS()\n",
    "            \n",
    "            self.trace = pm.sample(1000,tune=100,step=step,chains=1,return_inferencedata=False)\n",
    "\n",
    "            #az.plot_energy(self.trace)\n",
    "            \n",
    "    def predict(self,user,keep=5):\n",
    "\n",
    "        currentLambdas = np.zeros((self.N_users,self.N_movies))\n",
    "\n",
    "\n",
    "        with pm.Model() as model:\n",
    "\n",
    "            rMatrix = self.trace[\"lambdas\"].mean(axis = 0)[user]\n",
    "\n",
    "            predictions = rMatrix.argsort()[::-1]\n",
    "\n",
    "            #print(self.observations)\n",
    "            \n",
    "            predictions = [x for x in predictions if (user,x) not in list(zip(self.row_indices,self.col_indices))]\n",
    "\n",
    "\n",
    "        return predictions[:keep]\n",
    "            \n",
    "    def predict_item(self,user,movie):\n",
    "\n",
    "        return self.trace[\"lambdas\"].mean(axis = 0)[user][movie]\n",
    "        "
   ]
  },
  {
   "cell_type": "code",
   "execution_count": null,
   "id": "8b48ea33-093d-409a-a4f5-7f93f43a504c",
   "metadata": {},
   "outputs": [],
   "source": [
    "#list(zip(m.row_indices,m.col_indices))"
   ]
  },
  {
   "cell_type": "code",
   "execution_count": null,
   "id": "e2104812-fab5-4157-97a6-da13c3992292",
   "metadata": {
    "scrolled": true
   },
   "outputs": [],
   "source": [
    "m = HPFModel(binary = True)"
   ]
  },
  {
   "cell_type": "code",
   "execution_count": null,
   "id": "1af2ccdb-d8f3-4dcb-82fd-0087ef740f29",
   "metadata": {},
   "outputs": [],
   "source": [
    "m.train()"
   ]
  },
  {
   "cell_type": "code",
   "execution_count": null,
   "id": "aadc5e01-006d-49a9-b268-617b77bd8a96",
   "metadata": {
    "scrolled": true
   },
   "outputs": [],
   "source": [
    "m.trainData.head(10)"
   ]
  },
  {
   "cell_type": "code",
   "execution_count": null,
   "id": "65ab6831-8b2c-4f8c-a4d9-60f32e580733",
   "metadata": {},
   "outputs": [],
   "source": [
    "test_labels = dict()\n",
    "\n",
    "\n",
    "for user in range(m.N_users):\n",
    "    test_labels[user] = []\n",
    "\n",
    "    for movie in range(m.N_movies):\n",
    "\n",
    "        aux = m.trainData[(m.trainData[\"userId\"]==user) & (m.trainData[\"movieId\"]==movie)]\n",
    "        aux2 = m.testData[(m.testData[\"userId\"]==user) & (m.testData[\"movieId\"]==movie)]\n",
    "        \n",
    "        #print(aux)\n",
    "        if aux.shape[0]>0: #It was already watched\n",
    "            continue \n",
    "        #print(aux2)\n",
    "        if aux2.shape[0]==0: #Not interesting\n",
    "            continue \n",
    "        #print(aux2[\"rating\"])\n",
    "        #print(aux2)\n",
    "        test_labels[user].append([movie,list(aux2[\"rating2\"])[0]])\n",
    "\n",
    "\n",
    "    test_labels[user].sort(key = lambda x: - x[1])\n",
    "\n",
    "    #print(test_labels[user])"
   ]
  },
  {
   "cell_type": "code",
   "execution_count": null,
   "id": "105bfb26-ee79-47e1-88f0-fa04166dc58a",
   "metadata": {},
   "outputs": [],
   "source": [
    "test_labels"
   ]
  },
  {
   "cell_type": "code",
   "execution_count": null,
   "id": "b29235c1-1af4-4118-9186-be8f48e667ac",
   "metadata": {},
   "outputs": [],
   "source": [
    "predictions = dict()\n",
    "\n",
    "for user in range(m.N_users):\n",
    "    predictions[user] = m.predict(user,keep=5)\n",
    "    "
   ]
  },
  {
   "cell_type": "code",
   "execution_count": null,
   "id": "b9ebb960-4183-44e5-b18e-e3f71541a09a",
   "metadata": {},
   "outputs": [],
   "source": [
    "userOrder = list(range(m.N_users))\n",
    "\n",
    "userOrder.sort(key = lambda x:- m.data[m.data['userId']==x].shape[0])"
   ]
  },
  {
   "cell_type": "code",
   "execution_count": null,
   "id": "8ceac281-ecc8-48ce-9f69-468c2f9659e7",
   "metadata": {},
   "outputs": [],
   "source": [
    "bins = np.linspace(0, m.N_users, 11, dtype=int)"
   ]
  },
  {
   "cell_type": "code",
   "execution_count": null,
   "id": "c1e84b7f-0f0b-4d25-952e-f5c166505298",
   "metadata": {},
   "outputs": [],
   "source": []
  },
  {
   "cell_type": "markdown",
   "id": "6c9d8a7f-5adf-45be-acea-f30e771094d5",
   "metadata": {},
   "source": [
    "# Computing MNP and MNR"
   ]
  },
  {
   "cell_type": "code",
   "execution_count": null,
   "id": "1cc7adf1-bc60-48f1-b238-8a2c7d7b1046",
   "metadata": {},
   "outputs": [],
   "source": [
    "currentPct = 0\n",
    "\n",
    "percentages = []\n",
    "MNP = []\n",
    "MNR = []\n",
    "\n",
    "sum = 0\n",
    "\n",
    "for i,user in enumerate(userOrder):\n",
    "\n",
    "    predicted  = predictions[user]\n",
    "    groundTruth = [x[0] for x in test_labels[user]]\n",
    "   \n",
    "\n",
    "    totalRelevant = m.testData[m.testData[\"userId\"]==user].shape[0]\n",
    "\n",
    "    currentValue = len(set(predicted) & set(groundTruth))  # Number of correct predictions\n",
    "    totalPredicted = len(predicted)  # Total number of predicted items\n",
    "\n",
    "    precission =  currentValue / totalPredicted\n",
    "    sum += currentValue/totalPredicted\n",
    "\n",
    "\n",
    "    #sum = sum + currentValue/totalRelevant\n",
    "\n",
    "    currentMNP = sum / (i+1)\n",
    "\n",
    "    if i and i in bins:\n",
    "        currentPct+=10\n",
    "        percentages.append(f\"{currentPct}%\")\n",
    "        MNP.append(currentMNP)\n",
    "    "
   ]
  },
  {
   "cell_type": "code",
   "execution_count": null,
   "id": "1b942800-769d-4412-9924-dc82b859198a",
   "metadata": {},
   "outputs": [],
   "source": [
    "plt.plot(percentages,MNP)\n",
    "plt.show()\n",
    "print(f\"The Mean Normalized Precission for the whole user set is {currentMNP}\")"
   ]
  },
  {
   "cell_type": "code",
   "execution_count": null,
   "id": "6a0b214c-0e00-4771-9c5a-2814334032e3",
   "metadata": {},
   "outputs": [],
   "source": []
  },
  {
   "cell_type": "code",
   "execution_count": null,
   "id": "47391110-cc01-4681-9965-06a68f8712a2",
   "metadata": {},
   "outputs": [],
   "source": [
    "sum = 0\n",
    "percentages = []\n",
    "currentPct = 0\n",
    "MNR = []\n",
    "\n",
    "X = 0\n",
    "Y = 0\n",
    "\n",
    "for i, user in enumerate(userOrder):\n",
    "    predicted = predictions[user]\n",
    "    groundTruth = [x[0] for x in test_labels[user][:5]]\n",
    "    totalRelevant = m.testData[m.testData[\"userId\"] == user].shape[0]\n",
    "    totalPredicted = len(predicted)\n",
    "    currentValue = len(set(predicted) & set(groundTruth)) \n",
    "\n",
    "    X += currentValue\n",
    "    Y += totalRelevant\n",
    "\n",
    "    #recall = (currentValue / totalRelevant)\n",
    "    normalized_recall = currentValue/len(groundTruth)\n",
    "\n",
    " \n",
    "    sum += normalized_recall\n",
    "\n",
    " \n",
    "    currentMNR = sum / (i + 1)\n",
    "\n",
    "    if i and i in bins:\n",
    "        currentPct += 10\n",
    "        percentages.append(f\"{currentPct}%\")\n",
    "        MNR.append(currentMNR)\n"
   ]
  },
  {
   "cell_type": "code",
   "execution_count": null,
   "id": "3f803d8d-cab4-4f05-bf8f-c6274c2bbcdb",
   "metadata": {},
   "outputs": [],
   "source": [
    "plt.plot(percentages,MNR)\n",
    "plt.show()\n",
    "print(f\"The Mean Normalized Recall for the whole user set is {currentMNR}\")\n",
    "\n"
   ]
  },
  {
   "cell_type": "code",
   "execution_count": null,
   "id": "c441842f-7c48-4f1b-b766-33c5a5da03e1",
   "metadata": {},
   "outputs": [],
   "source": []
  },
  {
   "cell_type": "code",
   "execution_count": null,
   "id": "30632f46-27cc-4b8c-93f0-700fecbb3e63",
   "metadata": {},
   "outputs": [],
   "source": []
  },
  {
   "cell_type": "code",
   "execution_count": null,
   "id": "f48dee56-8401-4e45-be36-0efaef02eb6c",
   "metadata": {},
   "outputs": [],
   "source": []
  },
  {
   "cell_type": "code",
   "execution_count": null,
   "id": "9cdca05b-b5d5-434d-a0a3-2a74d9e92113",
   "metadata": {},
   "outputs": [],
   "source": []
  }
 ],
 "metadata": {
  "kernelspec": {
   "display_name": "Python 3 (ipykernel)",
   "language": "python",
   "name": "python3"
  },
  "language_info": {
   "codemirror_mode": {
    "name": "ipython",
    "version": 3
   },
   "file_extension": ".py",
   "mimetype": "text/x-python",
   "name": "python",
   "nbconvert_exporter": "python",
   "pygments_lexer": "ipython3",
   "version": "3.11.7"
  }
 },
 "nbformat": 4,
 "nbformat_minor": 5
}
