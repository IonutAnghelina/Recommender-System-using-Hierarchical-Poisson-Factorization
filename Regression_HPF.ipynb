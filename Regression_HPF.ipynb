{
 "cells": [
  {
   "cell_type": "code",
   "execution_count": 1,
   "id": "9d261afd-4275-487a-bac6-8976d3f8b2f0",
   "metadata": {},
   "outputs": [
    {
     "ename": "KeyboardInterrupt",
     "evalue": "",
     "output_type": "error",
     "traceback": [
      "\u001b[1;31m---------------------------------------------------------------------------\u001b[0m",
      "\u001b[1;31mKeyboardInterrupt\u001b[0m                         Traceback (most recent call last)",
      "Cell \u001b[1;32mIn[1], line 1\u001b[0m\n\u001b[1;32m----> 1\u001b[0m \u001b[38;5;28;01mimport\u001b[39;00m \u001b[38;5;21;01mpymc\u001b[39;00m \u001b[38;5;28;01mas\u001b[39;00m \u001b[38;5;21;01mpm\u001b[39;00m\n\u001b[0;32m      2\u001b[0m \u001b[38;5;28;01mimport\u001b[39;00m \u001b[38;5;21;01mpandas\u001b[39;00m \u001b[38;5;28;01mas\u001b[39;00m \u001b[38;5;21;01mpd\u001b[39;00m\n\u001b[0;32m      3\u001b[0m \u001b[38;5;28;01mimport\u001b[39;00m \u001b[38;5;21;01mnumpy\u001b[39;00m \u001b[38;5;28;01mas\u001b[39;00m \u001b[38;5;21;01mnp\u001b[39;00m\n",
      "File \u001b[1;32m~\\anaconda3\\envs\\pymc_env\\Lib\\site-packages\\pymc\\__init__.py:47\u001b[0m\n\u001b[0;32m     42\u001b[0m     augmented \u001b[38;5;241m=\u001b[39m \u001b[38;5;124mf\u001b[39m\u001b[38;5;124m\"\u001b[39m\u001b[38;5;132;01m{\u001b[39;00maugmented\u001b[38;5;132;01m}\u001b[39;00m\u001b[38;5;124m -fno-unwind-tables -fno-asynchronous-unwind-tables\u001b[39m\u001b[38;5;124m\"\u001b[39m\n\u001b[0;32m     44\u001b[0m     pytensor\u001b[38;5;241m.\u001b[39mconfig\u001b[38;5;241m.\u001b[39mgcc__cxxflags \u001b[38;5;241m=\u001b[39m augmented\n\u001b[1;32m---> 47\u001b[0m \u001b[43m__set_compiler_flags\u001b[49m\u001b[43m(\u001b[49m\u001b[43m)\u001b[49m\n\u001b[0;32m     49\u001b[0m \u001b[38;5;28;01mfrom\u001b[39;00m \u001b[38;5;21;01mpymc\u001b[39;00m \u001b[38;5;28;01mimport\u001b[39;00m _version, gp, ode, sampling\n\u001b[0;32m     50\u001b[0m \u001b[38;5;28;01mfrom\u001b[39;00m \u001b[38;5;21;01mpymc\u001b[39;00m\u001b[38;5;21;01m.\u001b[39;00m\u001b[38;5;21;01mbackends\u001b[39;00m \u001b[38;5;28;01mimport\u001b[39;00m \u001b[38;5;241m*\u001b[39m\n",
      "File \u001b[1;32m~\\anaconda3\\envs\\pymc_env\\Lib\\site-packages\\pymc\\__init__.py:30\u001b[0m, in \u001b[0;36m__set_compiler_flags\u001b[1;34m()\u001b[0m\n\u001b[0;32m     28\u001b[0m \u001b[38;5;28;01mdef\u001b[39;00m \u001b[38;5;21m__set_compiler_flags\u001b[39m():\n\u001b[0;32m     29\u001b[0m     \u001b[38;5;66;03m# Workarounds for PyTensor compiler problems on various platforms\u001b[39;00m\n\u001b[1;32m---> 30\u001b[0m     \u001b[38;5;28;01mimport\u001b[39;00m \u001b[38;5;21;01mpytensor\u001b[39;00m\n\u001b[0;32m     32\u001b[0m     current \u001b[38;5;241m=\u001b[39m pytensor\u001b[38;5;241m.\u001b[39mconfig\u001b[38;5;241m.\u001b[39mgcc__cxxflags\n\u001b[0;32m     33\u001b[0m     augmented \u001b[38;5;241m=\u001b[39m \u001b[38;5;124mf\u001b[39m\u001b[38;5;124m\"\u001b[39m\u001b[38;5;132;01m{\u001b[39;00mcurrent\u001b[38;5;132;01m}\u001b[39;00m\u001b[38;5;124m -Wno-c++11-narrowing\u001b[39m\u001b[38;5;124m\"\u001b[39m\n",
      "File \u001b[1;32m~\\anaconda3\\envs\\pymc_env\\Lib\\site-packages\\pytensor\\__init__.py:62\u001b[0m\n\u001b[0;32m     59\u001b[0m         \u001b[38;5;28;01mcontinue\u001b[39;00m\n\u001b[0;32m     60\u001b[0m     \u001b[38;5;28;01mraise\u001b[39;00m \u001b[38;5;167;01mRuntimeError\u001b[39;00m(\u001b[38;5;124m\"\u001b[39m\u001b[38;5;124mYou have the pytensor directory in your Python path.\u001b[39m\u001b[38;5;124m\"\u001b[39m)\n\u001b[1;32m---> 62\u001b[0m \u001b[38;5;28;01mfrom\u001b[39;00m \u001b[38;5;21;01mpytensor\u001b[39;00m\u001b[38;5;21;01m.\u001b[39;00m\u001b[38;5;21;01mconfigdefaults\u001b[39;00m \u001b[38;5;28;01mimport\u001b[39;00m config\n\u001b[0;32m     65\u001b[0m \u001b[38;5;66;03m# This is the api version for ops that generate C code.  External ops\u001b[39;00m\n\u001b[0;32m     66\u001b[0m \u001b[38;5;66;03m# might need manual changes if this number goes up.  An undefined\u001b[39;00m\n\u001b[0;32m     67\u001b[0m \u001b[38;5;66;03m# __api_version__ can be understood to mean api version 0.\u001b[39;00m\n\u001b[0;32m     68\u001b[0m \u001b[38;5;66;03m#\u001b[39;00m\n\u001b[0;32m     69\u001b[0m \u001b[38;5;66;03m# This number is not tied to the release version and should change\u001b[39;00m\n\u001b[0;32m     70\u001b[0m \u001b[38;5;66;03m# very rarely.\u001b[39;00m\n\u001b[0;32m     71\u001b[0m __api_version__ \u001b[38;5;241m=\u001b[39m \u001b[38;5;241m1\u001b[39m\n",
      "File \u001b[1;32m~\\anaconda3\\envs\\pymc_env\\Lib\\site-packages\\pytensor\\configdefaults.py:11\u001b[0m\n\u001b[0;32m      8\u001b[0m \u001b[38;5;28;01mimport\u001b[39;00m \u001b[38;5;21;01mtextwrap\u001b[39;00m\n\u001b[0;32m     10\u001b[0m \u001b[38;5;28;01mimport\u001b[39;00m \u001b[38;5;21;01mnumpy\u001b[39;00m \u001b[38;5;28;01mas\u001b[39;00m \u001b[38;5;21;01mnp\u001b[39;00m\n\u001b[1;32m---> 11\u001b[0m \u001b[38;5;28;01mfrom\u001b[39;00m \u001b[38;5;21;01msetuptools\u001b[39;00m\u001b[38;5;21;01m.\u001b[39;00m\u001b[38;5;21;01m_distutils\u001b[39;00m\u001b[38;5;21;01m.\u001b[39;00m\u001b[38;5;21;01mspawn\u001b[39;00m \u001b[38;5;28;01mimport\u001b[39;00m find_executable\n\u001b[0;32m     13\u001b[0m \u001b[38;5;28;01mimport\u001b[39;00m \u001b[38;5;21;01mpytensor\u001b[39;00m\n\u001b[0;32m     14\u001b[0m \u001b[38;5;28;01mfrom\u001b[39;00m \u001b[38;5;21;01mpytensor\u001b[39;00m\u001b[38;5;21;01m.\u001b[39;00m\u001b[38;5;21;01mconfigparser\u001b[39;00m \u001b[38;5;28;01mimport\u001b[39;00m (\n\u001b[0;32m     15\u001b[0m     BoolParam,\n\u001b[0;32m     16\u001b[0m     ConfigParam,\n\u001b[1;32m   (...)\u001b[0m\n\u001b[0;32m     22\u001b[0m     _create_default_config,\n\u001b[0;32m     23\u001b[0m )\n",
      "File \u001b[1;32m~\\anaconda3\\envs\\pymc_env\\Lib\\site-packages\\setuptools\\__init__.py:15\u001b[0m\n\u001b[0;32m     13\u001b[0m \u001b[38;5;28;01mfrom\u001b[39;00m \u001b[38;5;21;01m.\u001b[39;00m \u001b[38;5;28;01mimport\u001b[39;00m version \u001b[38;5;28;01mas\u001b[39;00m _version_module\n\u001b[0;32m     14\u001b[0m \u001b[38;5;28;01mfrom\u001b[39;00m \u001b[38;5;21;01m.\u001b[39;00m\u001b[38;5;21;01mdepends\u001b[39;00m \u001b[38;5;28;01mimport\u001b[39;00m Require\n\u001b[1;32m---> 15\u001b[0m \u001b[38;5;28;01mfrom\u001b[39;00m \u001b[38;5;21;01m.\u001b[39;00m\u001b[38;5;21;01mdiscovery\u001b[39;00m \u001b[38;5;28;01mimport\u001b[39;00m PackageFinder, PEP420PackageFinder\n\u001b[0;32m     16\u001b[0m \u001b[38;5;28;01mfrom\u001b[39;00m \u001b[38;5;21;01m.\u001b[39;00m\u001b[38;5;21;01mdist\u001b[39;00m \u001b[38;5;28;01mimport\u001b[39;00m Distribution\n\u001b[0;32m     17\u001b[0m \u001b[38;5;28;01mfrom\u001b[39;00m \u001b[38;5;21;01m.\u001b[39;00m\u001b[38;5;21;01mextension\u001b[39;00m \u001b[38;5;28;01mimport\u001b[39;00m Extension\n",
      "File \u001b[1;32m<frozen importlib._bootstrap>:1176\u001b[0m, in \u001b[0;36m_find_and_load\u001b[1;34m(name, import_)\u001b[0m\n",
      "File \u001b[1;32m<frozen importlib._bootstrap>:1138\u001b[0m, in \u001b[0;36m_find_and_load_unlocked\u001b[1;34m(name, import_)\u001b[0m\n",
      "File \u001b[1;32m<frozen importlib._bootstrap>:1078\u001b[0m, in \u001b[0;36m_find_spec\u001b[1;34m(name, path, target)\u001b[0m\n",
      "File \u001b[1;32m<frozen importlib._bootstrap_external>:1504\u001b[0m, in \u001b[0;36mfind_spec\u001b[1;34m(cls, fullname, path, target)\u001b[0m\n",
      "File \u001b[1;32m<frozen importlib._bootstrap_external>:1476\u001b[0m, in \u001b[0;36m_get_spec\u001b[1;34m(cls, fullname, path, target)\u001b[0m\n",
      "File \u001b[1;32m<frozen importlib._bootstrap_external>:1612\u001b[0m, in \u001b[0;36mfind_spec\u001b[1;34m(self, fullname, target)\u001b[0m\n",
      "File \u001b[1;32m<frozen importlib._bootstrap_external>:147\u001b[0m, in \u001b[0;36m_path_stat\u001b[1;34m(path)\u001b[0m\n",
      "\u001b[1;31mKeyboardInterrupt\u001b[0m: "
     ]
    }
   ],
   "source": [
    "import pymc as pm\n",
    "import pandas as pd\n",
    "import numpy as np\n",
    "import aesara.tensor as at\n",
    "import pytensor.tensor as pt\n",
    "from sklearn.model_selection import train_test_split\n",
    "import random\n",
    "import matplotlib.pyplot as plt\n",
    "from sklearn.metrics import mean_absolute_error, mean_squared_error"
   ]
  },
  {
   "cell_type": "code",
   "execution_count": null,
   "id": "7fb71011-941f-43ac-8ac9-955f7bd92a65",
   "metadata": {},
   "outputs": [],
   "source": [
    "ratings = pd.read_csv(\"./ratings.csv\")\n",
    "movies = pd.read_csv('./movies_metadata.csv')"
   ]
  },
  {
   "cell_type": "code",
   "execution_count": null,
   "id": "4319cff1-9111-4aa9-8236-bbf1ee023b58",
   "metadata": {},
   "outputs": [],
   "source": [
    "ratings.head(5)"
   ]
  },
  {
   "cell_type": "code",
   "execution_count": null,
   "id": "b94e5362-39ef-4045-a923-a596b1c4b817",
   "metadata": {},
   "outputs": [],
   "source": [
    "class HPFModel():\n",
    "\n",
    "    def __init__(self, binary = False):\n",
    "        self.N_users = 200\n",
    "        \n",
    "        self.N_movies = 200\n",
    "\n",
    "        self.aprime = 0.3\n",
    "        self.bprime = 0.3\n",
    "        self.a = 0.3\n",
    "        self.cprime = 0.3\n",
    "        self.dprime = 0.3\n",
    "        self.c = 0.3\n",
    "\n",
    "        #self.keepObservations = 150\n",
    "\n",
    "\n",
    "        self.negativeProportion = 0.2 \n",
    "        \n",
    "        self.K = 20 #the number of components \n",
    "\n",
    "       \n",
    "        data = pd.read_csv('full_dataset.csv')\n",
    "        data['rating'] = data['rating']*2\n",
    "        data = data.drop(['score','Unnamed: 0'], axis=1)\n",
    "\n",
    "        if binary:\n",
    "            data['rating'] = data['rating'].apply(lambda x:x>0)\n",
    "\n",
    "\n",
    "        data = data.sample(frac=1).reset_index(drop=True)\n",
    "\n",
    "        \n",
    "        \n",
    "        print(data.head(5))\n",
    "\n",
    "        self.data = data\n",
    "\n",
    "        self.trainData = pd.DataFrame({\"userId\":[],\"movieId\":[],\"rating\":[],\"timestamp\":[]})\n",
    "        self.testData = pd.DataFrame({\"userId\":[],\"movieId\":[],\"rating\":[],\"timestamp\":[]})\n",
    "\n",
    "\n",
    "        for u in range(self.N_users):\n",
    "\n",
    "            currentUserInteractions = self.data[self.data[\"userId\"]==u].astype('int')\n",
    "\n",
    "            forTrain, forTest = train_test_split(currentUserInteractions, test_size = 0.1, random_state = 42)\n",
    "\n",
    "            self.trainData = pd.concat([self.trainData,forTrain])\n",
    "            self.testData = pd.concat([self.testData,forTest])\n",
    "            \n",
    "        #data = data.head(10000)\n",
    "        #self.trainData, self.testData = train_test_split(data, test_size=0.1, random_state=42)\n",
    "\n",
    "        self.negatives = int(self.negativeProportion * len(self.trainData))\n",
    "        \n",
    "        while(self.negatives>0):\n",
    "\n",
    "        \n",
    "            x = random.randint(0,self.N_users-1)\n",
    "            y = random.randint(0,self.N_movies-1)\n",
    "\n",
    "            if self.trainData[(self.data['userId']==x) & (self.data['movieId']==y)].shape[0]:\n",
    "                continue \n",
    "\n",
    "          #  print(\"ceva\")\n",
    "            new_entry = {'userId':x,'movieId':y,'rating':0,'timestamp':\"0\"}\n",
    "\n",
    "            self.trainData = pd.concat([self.trainData, pd.DataFrame([new_entry])])\n",
    "\n",
    "            self.negatives-=1\n",
    "                \n",
    "        \n",
    "        #print(len(self.testData))\n",
    "        ratingDict = dict()\n",
    "\n",
    "        for i,row in self.trainData.iterrows():\n",
    "            ratingDict[int(row['userId']),int(row['movieId'])] = int(row['rating'])\n",
    "\n",
    "        indices = [list(x) for x in list(ratingDict.keys())]\n",
    "\n",
    "        self.row_indices, self.col_indices = zip(*indices)\n",
    "        self.row_indices = np.array(self.row_indices)\n",
    "        self.col_indices = np.array(self.col_indices)\n",
    "        self.observations = list(ratingDict.values())\n",
    "\n",
    "    def train(self):\n",
    "        coords = {\n",
    "            \"no_users\":np.arange(self.N_users),\n",
    "            \"no_movies\":np.arange(self.N_movies),\n",
    "            \"no_features\":np.arange(self.K),\n",
    "            \"unity\":np.arange(1)\n",
    "        }\n",
    "        with pm.Model(coords=coords) as model:\n",
    "            \n",
    "            xi = pm.Gamma(\"xi\",self.aprime,self.aprime/self.bprime,dims=(\"no_users\",\"unity\"))\n",
    "            \n",
    "            theta = pm.Gamma('theta', alpha=self.a, beta=xi, dims=(\"no_users\", \"no_features\"))\n",
    "            \n",
    "            \n",
    "            eta = pm.Gamma(\"eta\",self.cprime,self.cprime/self.dprime,dims=(\"unity\",\"no_movies\"))\n",
    "            \n",
    "            beta = pm.Gamma('beta', alpha=self.c, beta=eta, dims=(\"no_features\",\"no_movies\"))\n",
    "            \n",
    "            \n",
    "            lambdas = pm.Deterministic(\"lambdas\",pt.dot(theta,beta))\n",
    "        \n",
    "            obs = pm.Poisson(\"obs\",mu = lambdas[self.row_indices,self.col_indices],shape = len(self.row_indices), observed = self.observations)\n",
    "\n",
    "        with model:\n",
    "            step = pm.NUTS()\n",
    "            \n",
    "            self.trace = pm.sample(10000,tune=1000,step=step,chains=1,return_inferencedata=False)\n",
    "\n",
    "    def predict(self,user,keep=5):\n",
    "\n",
    "        currentLambdas = np.zeros((self.N_users,self.N_movies))\n",
    "\n",
    "\n",
    "        with pm.Model() as model:\n",
    "\n",
    "            rMatrix = self.trace[\"lambdas\"].mean(axis = 0)[user]\n",
    "\n",
    "            predictions = rMatrix.argsort()[::-1]\n",
    "\n",
    "            #print(self.observations)\n",
    "            \n",
    "            predictions = [x for x in predictions if (user,x) not in list(zip(self.row_indices,self.col_indices))]\n",
    "\n",
    "\n",
    "        return predictions[:keep]\n",
    "            \n",
    "    def predict_item(self,user,movie):\n",
    "\n",
    "        return self.trace[\"lambdas\"].mean(axis = 0)[user][movie]\n",
    "        "
   ]
  },
  {
   "cell_type": "code",
   "execution_count": null,
   "id": "8b48ea33-093d-409a-a4f5-7f93f43a504c",
   "metadata": {},
   "outputs": [],
   "source": [
    "#list(zip(m.row_indices,m.col_indices))"
   ]
  },
  {
   "cell_type": "code",
   "execution_count": null,
   "id": "e2104812-fab5-4157-97a6-da13c3992292",
   "metadata": {
    "scrolled": true
   },
   "outputs": [],
   "source": [
    "m = HPFModel(binary = False)"
   ]
  },
  {
   "cell_type": "code",
   "execution_count": null,
   "id": "1af2ccdb-d8f3-4dcb-82fd-0087ef740f29",
   "metadata": {},
   "outputs": [],
   "source": [
    "m.train()"
   ]
  },
  {
   "cell_type": "code",
   "execution_count": null,
   "id": "c441842f-7c48-4f1b-b766-33c5a5da03e1",
   "metadata": {},
   "outputs": [],
   "source": [
    "sumAE = 0\n",
    "sumSE = 0\n",
    "\n",
    "print(m.testData)"
   ]
  },
  {
   "cell_type": "code",
   "execution_count": null,
   "id": "30632f46-27cc-4b8c-93f0-700fecbb3e63",
   "metadata": {},
   "outputs": [],
   "source": [
    "y = list(m.testData[\"rating\"])\n",
    "y_pred = []"
   ]
  },
  {
   "cell_type": "code",
   "execution_count": null,
   "id": "bacbdaad-c266-437c-abb3-6bd28d1bf5ed",
   "metadata": {},
   "outputs": [],
   "source": [
    "for i,row in m.testData.iterrows():\n",
    "\n",
    "    y_pred.append(m.predict_item(int(row[\"userId\"]),int(row[\"movieId\"])))"
   ]
  },
  {
   "cell_type": "code",
   "execution_count": null,
   "id": "fe734f7d-6cdc-4eba-8434-c4b1bda1d466",
   "metadata": {},
   "outputs": [],
   "source": [
    "y = np.array(y)/2\n",
    "y_pred = np.array(y_pred)/2"
   ]
  },
  {
   "cell_type": "code",
   "execution_count": null,
   "id": "104dd22b-b97d-4bac-ae74-56e8f3bfba6e",
   "metadata": {},
   "outputs": [],
   "source": [
    "MAE=mean_absolute_error(y,y_pred)\n",
    "print(f\"The rating's MAE is: {MAE}\")"
   ]
  },
  {
   "cell_type": "code",
   "execution_count": null,
   "id": "f9f8409e-e280-4330-ab0e-327abca4d64a",
   "metadata": {},
   "outputs": [],
   "source": [
    "MSE=mean_squared_error(y,y_pred)\n",
    "print(f\"The rating's MSE is: {MSE}\")"
   ]
  },
  {
   "cell_type": "code",
   "execution_count": null,
   "id": "bdae2830-6cc2-4a3d-ba92-30d54673bf67",
   "metadata": {},
   "outputs": [],
   "source": [
    "RMSE=np.sqrt(mean_squared_error(y,y_pred))\n",
    "print(f\"The rating's RMSE is: {RMSE}\")"
   ]
  },
  {
   "cell_type": "code",
   "execution_count": null,
   "id": "902f23d3-9597-45db-a234-df07962c4564",
   "metadata": {},
   "outputs": [],
   "source": []
  }
 ],
 "metadata": {
  "kernelspec": {
   "display_name": "Python 3 (ipykernel)",
   "language": "python",
   "name": "python3"
  },
  "language_info": {
   "codemirror_mode": {
    "name": "ipython",
    "version": 3
   },
   "file_extension": ".py",
   "mimetype": "text/x-python",
   "name": "python",
   "nbconvert_exporter": "python",
   "pygments_lexer": "ipython3",
   "version": "3.11.7"
  }
 },
 "nbformat": 4,
 "nbformat_minor": 5
}
